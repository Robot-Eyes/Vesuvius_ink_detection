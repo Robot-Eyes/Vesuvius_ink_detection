{
 "cells": [
  {
   "cell_type": "code",
   "execution_count": 1,
   "id": "1364f4ae",
   "metadata": {},
   "outputs": [
    {
     "name": "stdout",
     "output_type": "stream",
     "text": [
      "cuda\n",
      "cpu count: 32\n"
     ]
    }
   ],
   "source": [
    "import os, sys,shutil, gc\n",
    "\n",
    "from glob import glob\n",
    "from tqdm import tqdm\n",
    "\n",
    "import math\n",
    "import random\n",
    "from collections import OrderedDict\n",
    "import warnings\n",
    "\n",
    "import albumentations as A\n",
    "import cv2\n",
    "from matplotlib import pyplot as plt\n",
    "\n",
    "import numpy as np\n",
    "import pandas as pd\n",
    "import timm\n",
    "import torch\n",
    "from torch import nn\n",
    "import torch.nn.functional as F\n",
    "from torch.optim import AdamW,lr_scheduler\n",
    "from torch.utils.data import DataLoader, Dataset\n",
    "from torch.cuda.amp import GradScaler, autocast\n",
    "from sklearn.metrics import fbeta_score, average_precision_score, roc_auc_score\n",
    "\n",
    "import multiprocessing\n",
    "\n",
    "from einops import rearrange, reduce, repeat\n",
    "import segmentation_models_pytorch as smp\n",
    "from segmentation_models_pytorch.decoders.unet.decoder import UnetDecoder\n",
    "from timm.models.resnet import resnet34d, seresnext26t_32x4d\n",
    "\n",
    "from ink_helpers import (load_image,seed_everything,\n",
    "                         load_fragment, DiceLoss, FocalLoss, dice_bce_loss)\n",
    "\n",
    "warnings.simplefilter(\"ignore\")\n",
    "\n",
    "device = torch.device(\"cuda\" if torch.cuda.is_available() else \"cpu\")\n",
    "\n",
    "print(device)\n",
    "print(\"cpu count:\", multiprocessing.cpu_count())"
   ]
  },
  {
   "cell_type": "code",
   "execution_count": 2,
   "id": "6dc36282",
   "metadata": {},
   "outputs": [],
   "source": [
    "# Config:\n",
    "random_seed = 42\n",
    "num_workers = min(12, multiprocessing.cpu_count())\n",
    "\n",
    "bottom_channel_idx = 29\n",
    "top_channel_idx = 35\n",
    "num_fluctuate_channel = 1\n",
    "\n",
    "num_select_channel = top_channel_idx - bottom_channel_idx\n",
    "\n",
    "block_size = 256\n",
    "stride = 128\n",
    "\n",
    "loss_type = ['bce', 'focal', 'bcedice'][2]\n",
    "max_lr = 5.0e-5\n",
    "weight_decay = 1.0e-3\n",
    "total_epoch = 11\n",
    "batch_size = 32\n",
    "\n",
    "valid_id = '2c'\n",
    "\n",
    "seed_everything(seed=random_seed)"
   ]
  },
  {
   "cell_type": "code",
   "execution_count": 3,
   "id": "c9e7dc20",
   "metadata": {},
   "outputs": [
    {
     "name": "stdout",
     "output_type": "stream",
     "text": [
      "Train: ['1', '2a', '2b', '3']\n"
     ]
    }
   ],
   "source": [
    "all_frag_ids = ['1', '2a', '2b', '2c', '3']\n",
    "id2dir = {id:f'./frags/train_{id}' for id in all_frag_ids}\n",
    "train_id_list = [id for id in all_frag_ids if id != valid_id]\n",
    "print('Train:', train_id_list)"
   ]
  },
  {
   "cell_type": "code",
   "execution_count": 4,
   "id": "8a34b596",
   "metadata": {},
   "outputs": [
    {
     "name": "stderr",
     "output_type": "stream",
     "text": [
      "100%|█████████████████████████████████████████████| 5/5 [01:14<00:00, 14.96s/it]\n"
     ]
    }
   ],
   "source": [
    "id2images,id2frag_mask,id2ink_mask = {},{},{}\n",
    "for frag_id in tqdm(all_frag_ids):\n",
    "    images,frag_mask,ink_mask = load_fragment(frag_id)\n",
    "    id2images[frag_id] = images\n",
    "    id2frag_mask[frag_id] = frag_mask\n",
    "    id2ink_mask[frag_id] = ink_mask"
   ]
  },
  {
   "cell_type": "code",
   "execution_count": 5,
   "id": "2dc6e676",
   "metadata": {},
   "outputs": [],
   "source": [
    "class InkDataSet2D(Dataset):\n",
    "    '''\n",
    "    image: (D, H, W); mask: (1, H, W)\n",
    "    '''\n",
    "    def __init__(self, frag_id_list, block_size, channel_slip=0, transforms=None, has_label=True):\n",
    "        self.frag_id_list = frag_id_list\n",
    "        self.block_size = block_size\n",
    "        self.transforms = transforms\n",
    "        self.has_label = has_label\n",
    "        \n",
    "        # get xy positions\n",
    "        id_xybt_list = []\n",
    "        for frag_id in frag_id_list:\n",
    "            frag_mask = id2frag_mask[frag_id]\n",
    "            xy_pairs = [\n",
    "                (min(x,frag_mask.shape[1]-block_size), min(y,frag_mask.shape[0]-block_size))\n",
    "                for x in range(0, frag_mask.shape[1]-block_size+stride, stride) \n",
    "                for y in range(0, frag_mask.shape[0]-block_size+stride, stride) \n",
    "                if np.any(frag_mask[y:y+block_size, x:x+block_size] > 0)\n",
    "            ]\n",
    "            bt_pairs = [(bottom_channel_idx+f, top_channel_idx+f)\n",
    "                        for f in range(-channel_slip, channel_slip+1)]\n",
    "            id_xybt_list += [(frag_id, *xy, *bt) for xy in xy_pairs for bt in bt_pairs]\n",
    "        self.id_xybt_list = id_xybt_list\n",
    "        \n",
    "    def __len__(self):\n",
    "        return len(self.id_xybt_list)\n",
    "\n",
    "    def __getitem__(self, idx):\n",
    "        frag_id,x,y,start_z,end_z = self.id_xybt_list[idx]\n",
    "\n",
    "        whole_image = id2images[frag_id]\n",
    "        image = whole_image[start_z:end_z, \n",
    "                            y:y+self.block_size, \n",
    "                            x:x+self.block_size] # D,H,W\n",
    "        image = np.moveaxis(image, 0, 2) # H,W,D\n",
    "\n",
    "        if self.has_label:\n",
    "            whole_mask = id2ink_mask[frag_id]\n",
    "            mask = whole_mask[y:y+self.block_size, \n",
    "                              x:x+self.block_size] # H,W\n",
    "            \n",
    "            if self.transforms:\n",
    "                transformed = self.transforms(image=image, mask=mask)\n",
    "                image, mask = transformed['image'], transformed['mask']\n",
    "                \n",
    "            image = np.moveaxis(image, 2, 0) # D,H,W\n",
    "            mask = np.expand_dims(mask, 0) # 1,H,W\n",
    "            \n",
    "            return idx, image, mask\n",
    "        else:\n",
    "            if self.transforms:\n",
    "                image = self.transforms(image=image)['image']\n",
    "            image = np.moveaxis(image, 2, 0) # D,H,W\n",
    "            return idx,image"
   ]
  },
  {
   "cell_type": "code",
   "execution_count": 6,
   "id": "f0a927b6",
   "metadata": {},
   "outputs": [
    {
     "name": "stdout",
     "output_type": "stream",
     "text": [
      "Train 749 , Valid 66\n"
     ]
    }
   ],
   "source": [
    "train_transform = A.Compose([\n",
    "        A.HorizontalFlip(p=0.5),\n",
    "        A.VerticalFlip(p=0.5),\n",
    "        A.RandomRotate90(p=1.0),\n",
    "#         A.RandomBrightnessContrast(p=0.75),\n",
    "#         A.ShiftScaleRotate(p=0.75),\n",
    "#         A.OneOf([\n",
    "#                 A.GaussNoise(var_limit=[10, 50]),\n",
    "#                 A.GaussianBlur(),\n",
    "#                 A.MotionBlur(),\n",
    "#                 ], p=0.4),\n",
    "#         A.GridDistortion(num_steps=5, distort_limit=0.3, p=0.5),\n",
    "        A.CoarseDropout(max_holes=1, max_width=int(block_size * 0.3), max_height=int(block_size * 0.3), \n",
    "                        mask_fill_value=0, p=0.5),\n",
    "        A.Normalize(\n",
    "            mean=[0]*num_select_channel, \n",
    "            std=[1]*num_select_channel\n",
    "        ),\n",
    "    ]\n",
    ")\n",
    "\n",
    "train_dataset = InkDataSet2D(\n",
    "    frag_id_list=train_id_list, \n",
    "    block_size=block_size, \n",
    "    channel_slip=num_fluctuate_channel, \n",
    "    transforms=train_transform, \n",
    "    has_label=True\n",
    ")\n",
    "\n",
    "train_dataloader = DataLoader(\n",
    "    train_dataset,\n",
    "    batch_size=batch_size,\n",
    "    pin_memory=True,\n",
    "    shuffle=True,\n",
    "    drop_last=True,\n",
    "    num_workers=num_workers,\n",
    "    prefetch_factor=1,\n",
    ")\n",
    "\n",
    "valid_transform = A.Compose([\n",
    "        A.Normalize(\n",
    "            mean=[0]*num_select_channel, \n",
    "            std=[1]*num_select_channel\n",
    "        ),\n",
    "    ]\n",
    ")\n",
    "\n",
    "valid_dataset = InkDataSet2D(\n",
    "    frag_id_list=[valid_id], \n",
    "    block_size=block_size, \n",
    "    channel_slip=0, \n",
    "    transforms=valid_transform, \n",
    "    has_label=False\n",
    ")\n",
    "\n",
    "valid_dataloader = DataLoader(\n",
    "    valid_dataset,\n",
    "    batch_size=batch_size,\n",
    "    pin_memory=True,\n",
    "    shuffle=False,\n",
    "    drop_last=False,\n",
    "    num_workers=num_workers,\n",
    "    prefetch_factor=1,\n",
    ")\n",
    "\n",
    "print('Train', len(train_dataloader), ', Valid', len(valid_dataloader), )"
   ]
  },
  {
   "cell_type": "markdown",
   "id": "17a53e69",
   "metadata": {},
   "source": [
    "# Model"
   ]
  },
  {
   "cell_type": "code",
   "execution_count": 7,
   "id": "0940646c",
   "metadata": {},
   "outputs": [],
   "source": [
    "model_name = ['UNet', 'UNetPlusPlus','MAnet'][1]\n",
    "backbone_name = ['resnet34', 'timm-resnest26d', 'xception'][2]"
   ]
  },
  {
   "cell_type": "code",
   "execution_count": 8,
   "id": "f6b387c9",
   "metadata": {},
   "outputs": [],
   "source": [
    "if model_name == 'UNet':\n",
    "    model = smp.Unet(\n",
    "        encoder_name=backbone_name,      \n",
    "        encoder_weights=None,     \n",
    "        in_channels=num_select_channel,                  \n",
    "        classes=1,        \n",
    "        activation=None,\n",
    "    );\n",
    "elif model_name == 'UNetPlusPlus':\n",
    "    model = smp.UnetPlusPlus(\n",
    "        encoder_name=backbone_name,      \n",
    "        encoder_weights=None,     \n",
    "        in_channels=num_select_channel,                  \n",
    "        classes=1,        \n",
    "        activation=None,\n",
    "    );\n",
    "elif model_name == 'MAnet':\n",
    "    model = smp.MAnet(\n",
    "        encoder_name=backbone_name,      \n",
    "        encoder_weights=None,     \n",
    "        in_channels=num_select_channel,                  \n",
    "        classes=1,        \n",
    "        activation=None,\n",
    "    );\n",
    "    \n",
    "model.to(device);"
   ]
  },
  {
   "cell_type": "code",
   "execution_count": 9,
   "id": "0d2c3182",
   "metadata": {},
   "outputs": [],
   "source": [
    "# a = torch.from_numpy( np.random.choice(256, (1, 12, 256, 256))).float().cuda()\n",
    "    \n",
    "# with torch.no_grad():\n",
    "#     with torch.cuda.amp.autocast(enabled=True):\n",
    "#         output = model(a)"
   ]
  },
  {
   "cell_type": "code",
   "execution_count": 10,
   "id": "7f78b5ce",
   "metadata": {
    "scrolled": true
   },
   "outputs": [
    {
     "name": "stderr",
     "output_type": "stream",
     "text": [
      "Ep00: 100%|███████████| 749/749 [04:16<00:00,  2.92it/s, LR=4.9e-05, Loss=0.551]\n",
      "100%|█████████████████████████████████████| 66/66 [00:09<00:00,  7.05it/s]\n"
     ]
    },
    {
     "name": "stdout",
     "output_type": "stream",
     "text": [
      "Valid: mAP 0.308, AUC 0.661, F0.5 0.337, \n"
     ]
    },
    {
     "name": "stderr",
     "output_type": "stream",
     "text": [
      "Ep01: 100%|█████| 749/749 [04:15<00:00,  2.94it/s, LR=4.9e-05, Loss=0.502]\n",
      "100%|█████████████████████████████████████| 66/66 [00:09<00:00,  7.07it/s]\n"
     ]
    },
    {
     "name": "stdout",
     "output_type": "stream",
     "text": [
      "Valid: mAP 0.354, AUC 0.706, F0.5 0.365, \n"
     ]
    },
    {
     "name": "stderr",
     "output_type": "stream",
     "text": [
      "Ep02: 100%|█████| 749/749 [04:15<00:00,  2.94it/s, LR=4.6e-05, Loss=0.467]\n",
      "100%|█████████████████████████████████████| 66/66 [00:09<00:00,  7.04it/s]\n"
     ]
    },
    {
     "name": "stdout",
     "output_type": "stream",
     "text": [
      "Valid: mAP 0.404, AUC 0.734, F0.5 0.410, \n"
     ]
    },
    {
     "name": "stderr",
     "output_type": "stream",
     "text": [
      "Ep03: 100%|█████| 749/749 [04:15<00:00,  2.94it/s, LR=4.0e-05, Loss=0.426]\n",
      "100%|█████████████████████████████████████| 66/66 [00:09<00:00,  7.09it/s]\n"
     ]
    },
    {
     "name": "stdout",
     "output_type": "stream",
     "text": [
      "Valid: mAP 0.415, AUC 0.757, F0.5 0.414, \n"
     ]
    },
    {
     "name": "stderr",
     "output_type": "stream",
     "text": [
      "Ep04: 100%|█████| 749/749 [04:15<00:00,  2.94it/s, LR=3.3e-05, Loss=0.382]\n",
      "100%|█████████████████████████████████████| 66/66 [00:09<00:00,  7.09it/s]\n"
     ]
    },
    {
     "name": "stdout",
     "output_type": "stream",
     "text": [
      "Valid: mAP 0.413, AUC 0.757, F0.5 0.415, \n"
     ]
    },
    {
     "name": "stderr",
     "output_type": "stream",
     "text": [
      "Ep05: 100%|█████| 749/749 [04:15<00:00,  2.94it/s, LR=2.5e-05, Loss=0.333]\n",
      "100%|█████████████████████████████████████| 66/66 [00:09<00:00,  7.10it/s]\n"
     ]
    },
    {
     "name": "stdout",
     "output_type": "stream",
     "text": [
      "Valid: mAP 0.442, AUC 0.748, F0.5 0.455, \n"
     ]
    },
    {
     "name": "stderr",
     "output_type": "stream",
     "text": [
      "Ep06: 100%|█████| 749/749 [04:15<00:00,  2.94it/s, LR=1.8e-05, Loss=0.350]\n",
      "100%|█████████████████████████████████████| 66/66 [00:09<00:00,  7.05it/s]\n"
     ]
    },
    {
     "name": "stdout",
     "output_type": "stream",
     "text": [
      "Valid: mAP 0.419, AUC 0.755, F0.5 0.434, \n"
     ]
    },
    {
     "name": "stderr",
     "output_type": "stream",
     "text": [
      "Ep07: 100%|█████| 749/749 [04:15<00:00,  2.94it/s, LR=1.0e-05, Loss=0.298]\n",
      "100%|█████████████████████████████████████| 66/66 [00:09<00:00,  7.09it/s]\n"
     ]
    },
    {
     "name": "stdout",
     "output_type": "stream",
     "text": [
      "Valid: mAP 0.453, AUC 0.766, F0.5 0.473, \n"
     ]
    },
    {
     "name": "stderr",
     "output_type": "stream",
     "text": [
      "Ep08: 100%|█████| 749/749 [04:15<00:00,  2.94it/s, LR=4.9e-06, Loss=0.290]\n",
      "100%|█████████████████████████████████████| 66/66 [00:09<00:00,  7.09it/s]\n"
     ]
    },
    {
     "name": "stdout",
     "output_type": "stream",
     "text": [
      "Valid: mAP 0.451, AUC 0.764, F0.5 0.469, \n"
     ]
    },
    {
     "name": "stderr",
     "output_type": "stream",
     "text": [
      "Ep09: 100%|█████| 749/749 [04:15<00:00,  2.94it/s, LR=1.2e-06, Loss=0.293]\n",
      "100%|█████████████████████████████████████| 66/66 [00:09<00:00,  7.13it/s]\n"
     ]
    },
    {
     "name": "stdout",
     "output_type": "stream",
     "text": [
      "Valid: mAP 0.446, AUC 0.760, F0.5 0.465, \n"
     ]
    },
    {
     "name": "stderr",
     "output_type": "stream",
     "text": [
      "Ep10: 100%|█████| 749/749 [04:15<00:00,  2.94it/s, LR=5.0e-09, Loss=0.278]\n",
      "100%|█████████████████████████████████████| 66/66 [00:09<00:00,  7.06it/s]\n"
     ]
    },
    {
     "name": "stdout",
     "output_type": "stream",
     "text": [
      "Valid: mAP 0.449, AUC 0.764, F0.5 0.469, \n"
     ]
    },
    {
     "data": {
      "text/plain": [
       "0"
      ]
     },
     "execution_count": 10,
     "metadata": {},
     "output_type": "execute_result"
    }
   ],
   "source": [
    "if loss_type == 'bce':\n",
    "    criterion = nn.BCEWithLogitsLoss()\n",
    "elif loss_type == 'focal':\n",
    "    criterion = FocalLoss(alpha=1, gamma=2, use_logits=True)\n",
    "if loss_type == 'bcedice':\n",
    "    criterion = dice_bce_loss\n",
    "    \n",
    "    \n",
    "optimizer = AdamW(model.parameters(), lr=max_lr, weight_decay=weight_decay)\n",
    "scheduler = lr_scheduler.OneCycleLR(\n",
    "    optimizer,\n",
    "    epochs=total_epoch,\n",
    "    steps_per_epoch=len(train_dataloader),\n",
    "    max_lr=max_lr,\n",
    "    pct_start=0.1,\n",
    "    anneal_strategy=\"cos\",\n",
    "    div_factor=1.0e3,\n",
    "    final_div_factor=1.0e1,\n",
    ")\n",
    "scaler = GradScaler()\n",
    "Sig = nn.Sigmoid()\n",
    "\n",
    "loss_list = [1] * 10\n",
    "for epoch in range(total_epoch):\n",
    "    \n",
    "    # training\n",
    "    gc.collect()\n",
    "    with tqdm(enumerate(train_dataloader), total=len(train_dataloader)) as pbar:\n",
    "        for step, (idx, img, target) in pbar:\n",
    "            \n",
    "            img, target = img.to(device).float(), target.to(device).float()\n",
    "            \n",
    "            optimizer.zero_grad()\n",
    "            with autocast():\n",
    "                outputs = model(img).float()\n",
    "            loss = criterion(outputs, target)\n",
    "\n",
    "            scaler.scale(loss).backward()\n",
    "            scaler.step(optimizer)\n",
    "            scaler.update()\n",
    "            scheduler.step()\n",
    "\n",
    "            pbar.set_description(f\"Ep{epoch:02d}\")\n",
    "            loss_list = loss_list[1:] + [loss.item()]\n",
    "            pbar.set_postfix(\n",
    "                OrderedDict(\n",
    "                    LR=f\"{scheduler.get_last_lr()[0]:.1e}\",\n",
    "                    Loss=f\"{sum(loss_list)/10:.3f}\",\n",
    "                )\n",
    "            )\n",
    "            \n",
    "    # validation\n",
    "    valid_frag_mask = id2frag_mask[valid_id]\n",
    "    valid_ink_mask = id2ink_mask[valid_id]\n",
    "    valid_ink_predicts = np.zeros(valid_frag_mask.shape).astype(float)\n",
    "    valid_ink_count = np.zeros(valid_frag_mask.shape)\n",
    "    valid_xybt_list = valid_dataset.id_xybt_list\n",
    "    \n",
    "    model.eval()\n",
    "    for idx, img in tqdm(valid_dataloader):\n",
    "        img = img.to(device).float()\n",
    "        with torch.no_grad():\n",
    "            with autocast():\n",
    "                outputs = Sig(model(img).float())\n",
    "\n",
    "        for batch_idx,whole_idx in enumerate(idx):\n",
    "            x,y = map(int, valid_xybt_list[whole_idx][1:3])\n",
    "\n",
    "            valid_ink_predicts[y:y+block_size, x:x+block_size] += outputs.cpu()[batch_idx][0].numpy()\n",
    "            valid_ink_count[y:y+block_size, x:x+block_size] += 1\n",
    "    \n",
    "    valid_ink_count[np.where(valid_frag_mask==0)] = 1\n",
    "    valid_ink_predicts = valid_ink_predicts/valid_ink_count\n",
    "    valid_ink_predicts[np.where(valid_frag_mask==0)] = 0\n",
    "\n",
    "    valid_ink_predicts_flat = valid_ink_predicts[np.where(valid_frag_mask)].flatten()\n",
    "    valid_ink_mask_flat = valid_ink_mask[np.where(valid_frag_mask)].flatten()\n",
    "\n",
    "    map_score = average_precision_score(valid_ink_mask_flat, valid_ink_predicts_flat)\n",
    "    auc_score = roc_auc_score(valid_ink_mask_flat, valid_ink_predicts_flat)\n",
    "    fhalf_score = fbeta_score(valid_ink_mask_flat, valid_ink_predicts_flat>0.5, beta=0.5)\n",
    "    print(f'Valid: mAP {map_score:.3f}, AUC {auc_score:.3f}, F0.5 {fhalf_score:.3f}, ')\n",
    "    model.train()\n",
    "    \n",
    "# save weights\n",
    "torch.save(\n",
    "    model.state_dict(), \n",
    "    f'./weights/SMP-{model_name}-{backbone_name}-block{block_size}-channel{bottom_channel_idx}-to{top_channel_idx}'\n",
    "    f'-slip{num_fluctuate_channel}-loss{loss_type}-lr{max_lr}-wd{weight_decay}-bs{batch_size}'\n",
    "    f'-valid{valid_id}-step{total_epoch*len(train_dataloader)}-seed{random_seed}-epoch{total_epoch}.pth'\n",
    ")\n",
    "    \n",
    "gc.collect()"
   ]
  },
  {
   "cell_type": "code",
   "execution_count": 11,
   "id": "cf877793",
   "metadata": {
    "scrolled": true
   },
   "outputs": [
    {
     "name": "stdout",
     "output_type": "stream",
     "text": [
      "0.1 0.38526101839112054\n",
      "0.2 0.4167324410499356\n",
      "0.3 0.4442678252809358\n",
      "0.4 0.46323474240634593\n",
      "0.5 0.46914952980162417\n",
      "0.6 0.4600835181509361\n"
     ]
    }
   ],
   "source": [
    "for i in [0.1, 0.2, 0.3, 0.4, 0.5, 0.6]:\n",
    "    print(i, fbeta_score(valid_ink_mask_flat, valid_ink_predicts_flat>i, beta=0.5))"
   ]
  },
  {
   "cell_type": "code",
   "execution_count": null,
   "id": "eb5b4cea",
   "metadata": {},
   "outputs": [],
   "source": []
  },
  {
   "cell_type": "code",
   "execution_count": null,
   "id": "444714a5",
   "metadata": {},
   "outputs": [],
   "source": []
  },
  {
   "cell_type": "code",
   "execution_count": null,
   "id": "1ba929e1",
   "metadata": {
    "scrolled": false
   },
   "outputs": [],
   "source": [
    "plt.subplot(2, 1, 1)\n",
    "plt.imshow(valid_ink_mask)\n",
    "plt.subplot(2, 1, 2)\n",
    "plt.imshow(valid_ink_predicts>0.5)"
   ]
  }
 ],
 "metadata": {
  "kernelspec": {
   "display_name": "Python 3 (ipykernel)",
   "language": "python",
   "name": "python3"
  },
  "language_info": {
   "codemirror_mode": {
    "name": "ipython",
    "version": 3
   },
   "file_extension": ".py",
   "mimetype": "text/x-python",
   "name": "python",
   "nbconvert_exporter": "python",
   "pygments_lexer": "ipython3",
   "version": "3.10.6"
  }
 },
 "nbformat": 4,
 "nbformat_minor": 5
}
