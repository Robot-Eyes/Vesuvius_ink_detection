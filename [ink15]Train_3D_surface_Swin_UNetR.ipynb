{
 "cells": [
  {
   "cell_type": "code",
   "execution_count": 1,
   "id": "1364f4ae",
   "metadata": {},
   "outputs": [
    {
     "name": "stdout",
     "output_type": "stream",
     "text": [
      "cuda\n",
      "cpu count: 32\n"
     ]
    }
   ],
   "source": [
    "import os, sys,shutil, gc\n",
    "\n",
    "from glob import glob\n",
    "from tqdm import tqdm\n",
    "\n",
    "import math\n",
    "import random\n",
    "from collections import OrderedDict\n",
    "import warnings\n",
    "\n",
    "import albumentations as A\n",
    "import cv2\n",
    "from matplotlib import pyplot as plt\n",
    "\n",
    "import numpy as np\n",
    "import pandas as pd\n",
    "import timm\n",
    "import torch\n",
    "from torch import nn\n",
    "import torch.nn.functional as F\n",
    "from torch.optim import AdamW,lr_scheduler\n",
    "from torch.utils.data import DataLoader, Dataset\n",
    "from torch.cuda.amp import GradScaler, autocast\n",
    "from sklearn.metrics import fbeta_score, average_precision_score, roc_auc_score\n",
    "\n",
    "import multiprocessing\n",
    "\n",
    "from einops import rearrange, reduce, repeat\n",
    "\n",
    "from ink_helpers import (load_image,seed_everything,\n",
    "                         load_fragment, DiceLoss, FocalLoss, dice_bce_loss)\n",
    "\n",
    "from modified_swin_unetr import SwinUNETR\n",
    "\n",
    "warnings.simplefilter(\"ignore\")\n",
    "\n",
    "device = torch.device(\"cuda\" if torch.cuda.is_available() else \"cpu\")\n",
    "\n",
    "print(device)\n",
    "print(\"cpu count:\", multiprocessing.cpu_count())"
   ]
  },
  {
   "cell_type": "code",
   "execution_count": 2,
   "id": "6dc36282",
   "metadata": {},
   "outputs": [],
   "source": [
    "# Config:\n",
    "random_seed = 42\n",
    "num_workers = min(12, multiprocessing.cpu_count())\n",
    "\n",
    "bottom_channel_idx = 12\n",
    "top_channel_idx = 28\n",
    "num_fluctuate_channel = 1\n",
    "\n",
    "num_select_channel = top_channel_idx - bottom_channel_idx\n",
    "\n",
    "block_size = 192\n",
    "stride = 96\n",
    "kernel_size = 201\n",
    "\n",
    "loss_type = ['bce', 'focal', 'bcedice'][2]\n",
    "max_lr = 5.0e-5\n",
    "weight_decay = 1.0e-3\n",
    "total_epoch = 6\n",
    "batch_size = 7\n",
    "\n",
    "\n",
    "valid_id_list = ['2c']\n",
    "\n",
    "seed_everything(seed=random_seed)"
   ]
  },
  {
   "cell_type": "code",
   "execution_count": 3,
   "id": "c9e7dc20",
   "metadata": {},
   "outputs": [
    {
     "name": "stdout",
     "output_type": "stream",
     "text": [
      "Train: ['1', '2a', '2b', '3']\n"
     ]
    }
   ],
   "source": [
    "all_frag_ids = ['1', '2a', '2b', '2c', '3']\n",
    "id2dir = {id:f'./frags/train_{id}' for id in all_frag_ids}\n",
    "train_id_list = [id for id in all_frag_ids if id not in valid_id_list]\n",
    "print('Train:', train_id_list)"
   ]
  },
  {
   "cell_type": "code",
   "execution_count": 4,
   "id": "8a34b596",
   "metadata": {},
   "outputs": [
    {
     "name": "stderr",
     "output_type": "stream",
     "text": [
      "100%|█████████████████████████████████████████████| 5/5 [01:14<00:00, 14.90s/it]\n"
     ]
    }
   ],
   "source": [
    "id2images,id2frag_mask,id2ink_mask = {},{},{}\n",
    "for frag_id in tqdm(all_frag_ids):\n",
    "    _,frag_mask,ink_mask = load_fragment(frag_id)\n",
    "    id2images[frag_id] = np.load(f'{id2dir[frag_id]}/landscape_peel_surface_kernel{kernel_size}_top17_bottom18.npy')\n",
    "    id2frag_mask[frag_id] = frag_mask\n",
    "    id2ink_mask[frag_id] = ink_mask"
   ]
  },
  {
   "cell_type": "code",
   "execution_count": 5,
   "id": "2dc6e676",
   "metadata": {},
   "outputs": [],
   "source": [
    "class InkDataSet3D(Dataset):\n",
    "    '''\n",
    "    image: (D, H, W); mask: (1, H, W)\n",
    "    '''\n",
    "    def __init__(self, frag_id_list, block_size, channel_slip=0, transforms=None, has_label=True):\n",
    "        self.frag_id_list = frag_id_list\n",
    "        self.block_size = block_size\n",
    "        self.transforms = transforms\n",
    "        self.has_label = has_label\n",
    "        \n",
    "        # get xy positions\n",
    "        id_xybt_list = []\n",
    "        for frag_id in frag_id_list:\n",
    "            frag_mask = id2frag_mask[frag_id]\n",
    "            xy_pairs = [\n",
    "                (min(x,frag_mask.shape[1]-block_size), min(y,frag_mask.shape[0]-block_size))\n",
    "                for x in range(0, frag_mask.shape[1]-block_size+stride, stride) \n",
    "                for y in range(0, frag_mask.shape[0]-block_size+stride, stride) \n",
    "                if np.any(frag_mask[y:y+block_size, x:x+block_size] > 0)\n",
    "            ]\n",
    "            bt_pairs = [(bottom_channel_idx+f, top_channel_idx+f)\n",
    "                        for f in range(-channel_slip, channel_slip+1)]\n",
    "            id_xybt_list += [(frag_id, *xy, *bt) for xy in xy_pairs for bt in bt_pairs]\n",
    "        self.id_xybt_list = id_xybt_list\n",
    "        \n",
    "    def __len__(self):\n",
    "        return len(self.id_xybt_list)\n",
    "\n",
    "    def __getitem__(self, idx):\n",
    "        frag_id,x,y,start_z,end_z = self.id_xybt_list[idx]\n",
    "\n",
    "        whole_image = id2images[frag_id]\n",
    "        image = whole_image[start_z:end_z, \n",
    "                            y:y+self.block_size, \n",
    "                            x:x+self.block_size] # D,H,W\n",
    "        image = np.moveaxis(image, 0, 2) # H,W,D\n",
    "\n",
    "        if self.has_label:\n",
    "            whole_mask = id2ink_mask[frag_id]\n",
    "            mask = whole_mask[y:y+self.block_size, \n",
    "                              x:x+self.block_size] # H,W\n",
    "            \n",
    "            if self.transforms:\n",
    "                transformed = self.transforms(image=image, mask=mask)\n",
    "                image, mask = transformed['image'], transformed['mask']\n",
    "                \n",
    "#             image = np.moveaxis(image, 2, 0) # D,H,W\n",
    "            image = np.expand_dims(image, 0) # 1,H,W,D\n",
    "            mask = np.expand_dims(mask, 0) # 1,H,W\n",
    "            return idx, image, mask\n",
    "        else:\n",
    "            if self.transforms:\n",
    "                image = self.transforms(image=image)['image']\n",
    "#             image = np.moveaxis(image, 2, 0) # D,H,W\n",
    "            image = np.expand_dims(image, 0) # 1,H,W,D\n",
    "            return idx,image"
   ]
  },
  {
   "cell_type": "code",
   "execution_count": 6,
   "id": "f0a927b6",
   "metadata": {},
   "outputs": [
    {
     "name": "stdout",
     "output_type": "stream",
     "text": [
      "Train 5953 , Valid 522\n"
     ]
    }
   ],
   "source": [
    "train_transform = A.Compose([\n",
    "        A.HorizontalFlip(p=0.5),\n",
    "        A.VerticalFlip(p=0.5),\n",
    "        A.RandomRotate90(p=1.0),\n",
    "        A.RandomBrightnessContrast(p=0.75),\n",
    "        A.ShiftScaleRotate(p=0.75),\n",
    "        A.OneOf([\n",
    "                A.GaussNoise(var_limit=[10, 50]),\n",
    "                A.GaussianBlur(),\n",
    "                A.MotionBlur(),\n",
    "                ], p=0.4),\n",
    "        A.GridDistortion(num_steps=5, distort_limit=0.3, p=0.5),\n",
    "        A.CoarseDropout(max_holes=1, max_width=int(block_size * 0.3), max_height=int(block_size * 0.3), \n",
    "                        mask_fill_value=0, p=0.5),\n",
    "        A.Normalize(\n",
    "            mean=[0]*num_select_channel, \n",
    "            std=[1]*num_select_channel\n",
    "        ),\n",
    "    ]\n",
    ")\n",
    "\n",
    "train_dataset = InkDataSet3D(\n",
    "    frag_id_list=train_id_list, \n",
    "    block_size=block_size, \n",
    "    channel_slip=num_fluctuate_channel, \n",
    "    transforms=train_transform, \n",
    "    has_label=True\n",
    ")\n",
    "\n",
    "train_dataloader = DataLoader(\n",
    "    train_dataset,\n",
    "    batch_size=batch_size,\n",
    "    pin_memory=True,\n",
    "    shuffle=True,\n",
    "    drop_last=True,\n",
    "    num_workers=num_workers,\n",
    "    prefetch_factor=1,\n",
    ")\n",
    "\n",
    "valid_transform = A.Compose([\n",
    "        A.Normalize(\n",
    "            mean=[0]*num_select_channel, \n",
    "            std=[1]*num_select_channel\n",
    "        ),\n",
    "    ]\n",
    ")\n",
    "\n",
    "valid_dataset = InkDataSet3D(\n",
    "    frag_id_list=valid_id_list, \n",
    "    block_size=block_size, \n",
    "    channel_slip=0, \n",
    "    transforms=valid_transform, \n",
    "    has_label=False\n",
    ")\n",
    "\n",
    "valid_dataloader = DataLoader(\n",
    "    valid_dataset,\n",
    "    batch_size=batch_size,\n",
    "    pin_memory=True,\n",
    "    shuffle=False,\n",
    "    drop_last=False,\n",
    "    num_workers=num_workers,\n",
    "    prefetch_factor=1,\n",
    ")\n",
    "\n",
    "print('Train', len(train_dataloader), ', Valid', len(valid_dataloader), )"
   ]
  },
  {
   "cell_type": "markdown",
   "id": "17a53e69",
   "metadata": {},
   "source": [
    "# Model"
   ]
  },
  {
   "cell_type": "code",
   "execution_count": 7,
   "id": "a2480b02",
   "metadata": {},
   "outputs": [],
   "source": [
    "model = SwinUNETR(img_size=(block_size,block_size,num_select_channel), in_channels=1, \n",
    "                  out_channels=1, spatial_dims=(3,2),\n",
    "                 depths=(2, 2, 2),  num_heads=(2, 4, 6),\n",
    "                 feature_size=24).to(device);"
   ]
  },
  {
   "cell_type": "code",
   "execution_count": 8,
   "id": "0940646c",
   "metadata": {},
   "outputs": [],
   "source": [
    "# model = SwinUNETR(img_size=(block_size,block_size,num_select_channel), in_channels=1, \n",
    "#                   out_channels=1, spatial_dims=(3,2),\n",
    "#                  depths=(2, 2, 2, 2),  num_heads=(2, 2, 4, 6),\n",
    "#                  feature_size=24).to(device);"
   ]
  },
  {
   "cell_type": "code",
   "execution_count": null,
   "id": "7f78b5ce",
   "metadata": {
    "scrolled": false
   },
   "outputs": [
    {
     "name": "stderr",
     "output_type": "stream",
     "text": [
      "Ep00: 100%|█████████| 5953/5953 [28:18<00:00,  3.51it/s, LR=2.4e-05, Loss=0.624]\n",
      "100%|█████████████████████████████████████████| 522/522 [00:45<00:00, 11.57it/s]\n"
     ]
    },
    {
     "name": "stdout",
     "output_type": "stream",
     "text": [
      "Valid: mAP 0.20, AUC 0.55, F0.5 0.00, \n"
     ]
    },
    {
     "name": "stderr",
     "output_type": "stream",
     "text": [
      "Ep01: 100%|█████████| 5953/5953 [28:18<00:00,  3.50it/s, LR=5.0e-05, Loss=0.609]\n",
      "100%|█████████████████████████████████████████| 522/522 [00:45<00:00, 11.54it/s]\n"
     ]
    },
    {
     "name": "stdout",
     "output_type": "stream",
     "text": [
      "Valid: mAP 0.27, AUC 0.64, F0.5 0.02, \n"
     ]
    },
    {
     "name": "stderr",
     "output_type": "stream",
     "text": [
      "Ep02:  88%|███████▉ | 5220/5953 [24:49<03:28,  3.51it/s, LR=4.7e-05, Loss=0.596]"
     ]
    }
   ],
   "source": [
    "if loss_type == 'bce':\n",
    "    criterion = nn.BCEWithLogitsLoss()\n",
    "elif loss_type == 'focal':\n",
    "    criterion = FocalLoss(alpha=1, gamma=2, use_logits=True)\n",
    "if loss_type == 'bcedice':\n",
    "    criterion = dice_bce_loss\n",
    "    \n",
    "    \n",
    "optimizer = AdamW(model.parameters(), lr=max_lr, weight_decay=weight_decay)\n",
    "scheduler = lr_scheduler.OneCycleLR(\n",
    "    optimizer,\n",
    "    epochs=total_epoch,\n",
    "    steps_per_epoch=int(len(train_dataloader)*1.15),\n",
    "    max_lr=max_lr,\n",
    "    pct_start=0.3,\n",
    "    anneal_strategy=\"cos\",\n",
    "    div_factor=1.0e2,\n",
    "    final_div_factor=1.0e1,\n",
    ")\n",
    "scaler = GradScaler()\n",
    "Sig = nn.Sigmoid()\n",
    "\n",
    "experiment_name = (\n",
    "    f'Surface{kernel_size}-SwinUNetR3D-block{block_size}-channel{bottom_channel_idx}'\n",
    "    f'-to{top_channel_idx}-slip{num_fluctuate_channel}-loss{loss_type}-lr{max_lr}-wd{weight_decay}-bs{batch_size}'\n",
    "    f'-valid{\"+\".join(valid_id_list)}-step{total_epoch*len(train_dataloader)}-seed{random_seed}-epoch{total_epoch}'\n",
    ")\n",
    "\n",
    "loss_list = [1] * 10\n",
    "for epoch in range(total_epoch):\n",
    "    \n",
    "    # training\n",
    "    gc.collect()\n",
    "    with tqdm(enumerate(train_dataloader), total=len(train_dataloader)) as pbar:\n",
    "        for step, (idx, img, target) in pbar:\n",
    "            \n",
    "            img, target = img.to(device).float(), target.to(device).float()\n",
    "            \n",
    "            optimizer.zero_grad()\n",
    "            with autocast():\n",
    "                outputs = model(img).float()\n",
    "                loss = criterion(outputs, target)\n",
    "\n",
    "            scaler.scale(loss).backward()\n",
    "            scaler.step(optimizer)\n",
    "            scaler.update()\n",
    "            scheduler.step()\n",
    "\n",
    "            pbar.set_description(f\"Ep{epoch:02d}\")\n",
    "            loss_list = loss_list[1:] + [loss.item()]\n",
    "            pbar.set_postfix(\n",
    "                OrderedDict(\n",
    "                    LR=f\"{scheduler.get_last_lr()[0]:.1e}\",\n",
    "                    Loss=f\"{sum(loss_list)/10:.3f}\",\n",
    "                )\n",
    "            )\n",
    "            \n",
    "            \n",
    "    \n",
    "    # validation\n",
    "    if not len(valid_id_list):\n",
    "        continue\n",
    "    valid_frag_mask = id2frag_mask[valid_id_list[0]]\n",
    "    valid_ink_mask = id2ink_mask[valid_id_list[0]]\n",
    "    valid_ink_predicts = np.zeros(valid_frag_mask.shape).astype(float)\n",
    "    valid_ink_count = np.zeros(valid_frag_mask.shape)\n",
    "    valid_xybt_list = valid_dataset.id_xybt_list\n",
    "    \n",
    "    model.eval()\n",
    "    for idx, img in tqdm(valid_dataloader):\n",
    "        img = img.to(device).float()\n",
    "        with torch.no_grad():\n",
    "            with autocast():\n",
    "                outputs = Sig(model(img).float())\n",
    "\n",
    "        for batch_idx,whole_idx in enumerate(idx):\n",
    "            x,y = map(int, valid_xybt_list[whole_idx][1:3])\n",
    "\n",
    "            valid_ink_predicts[y:y+block_size, x:x+block_size] += outputs.cpu()[batch_idx][0].numpy()\n",
    "            valid_ink_count[y:y+block_size, x:x+block_size] += 1\n",
    "    \n",
    "    valid_ink_count[np.where(valid_frag_mask==0)] = 1\n",
    "    valid_ink_predicts = valid_ink_predicts/valid_ink_count\n",
    "    valid_ink_predicts[np.where(valid_frag_mask==0)] = 0\n",
    "\n",
    "    valid_ink_predicts_flat = valid_ink_predicts[np.where(valid_frag_mask)].flatten()\n",
    "    valid_ink_mask_flat = valid_ink_mask[np.where(valid_frag_mask)].flatten()\n",
    "\n",
    "    map_score = average_precision_score(valid_ink_mask_flat, valid_ink_predicts_flat)\n",
    "    auc_score = roc_auc_score(valid_ink_mask_flat, valid_ink_predicts_flat)\n",
    "    fhalf_score = fbeta_score(valid_ink_mask_flat, valid_ink_predicts_flat>0.5, beta=0.5)\n",
    "    print(f'Valid: mAP {map_score:.2f}, AUC {auc_score:.2f}, F0.5 {fhalf_score:.2f}, ')\n",
    "    model.train()\n",
    "    \n",
    "# save weights\n",
    "torch.save(model.state_dict(), f'./weights/{experiment_name}.pth')\n",
    "    \n",
    "gc.collect()"
   ]
  },
  {
   "cell_type": "code",
   "execution_count": null,
   "id": "cf877793",
   "metadata": {
    "scrolled": true
   },
   "outputs": [],
   "source": [
    "if len(valid_id_list):\n",
    "    np.save(f'valid_preds_{experiment_name}.npy', valid_ink_predicts_flat)\n",
    "    for i in np.arange(0, 1, 0.1):\n",
    "        print(i, fbeta_score(valid_ink_mask_flat, valid_ink_predicts_flat>i, beta=0.5))"
   ]
  },
  {
   "cell_type": "code",
   "execution_count": null,
   "id": "eb5b4cea",
   "metadata": {},
   "outputs": [],
   "source": []
  },
  {
   "cell_type": "code",
   "execution_count": null,
   "id": "444714a5",
   "metadata": {},
   "outputs": [],
   "source": []
  },
  {
   "cell_type": "code",
   "execution_count": null,
   "id": "1ba929e1",
   "metadata": {
    "scrolled": false
   },
   "outputs": [],
   "source": [
    "plt.subplot(2, 1, 1)\n",
    "plt.imshow(valid_ink_mask)\n",
    "plt.subplot(2, 1, 2)\n",
    "plt.imshow(valid_ink_predicts>0.5)"
   ]
  },
  {
   "cell_type": "code",
   "execution_count": null,
   "id": "6ecd9e21",
   "metadata": {
    "scrolled": true
   },
   "outputs": [],
   "source": [
    "plt.imshow(valid_ink_predicts)"
   ]
  },
  {
   "cell_type": "code",
   "execution_count": null,
   "id": "34fae9b1",
   "metadata": {},
   "outputs": [],
   "source": []
  },
  {
   "cell_type": "code",
   "execution_count": null,
   "id": "e41efa79",
   "metadata": {},
   "outputs": [],
   "source": []
  }
 ],
 "metadata": {
  "kernelspec": {
   "display_name": "Python 3 (ipykernel)",
   "language": "python",
   "name": "python3"
  },
  "language_info": {
   "codemirror_mode": {
    "name": "ipython",
    "version": 3
   },
   "file_extension": ".py",
   "mimetype": "text/x-python",
   "name": "python",
   "nbconvert_exporter": "python",
   "pygments_lexer": "ipython3",
   "version": "3.10.6"
  }
 },
 "nbformat": 4,
 "nbformat_minor": 5
}
