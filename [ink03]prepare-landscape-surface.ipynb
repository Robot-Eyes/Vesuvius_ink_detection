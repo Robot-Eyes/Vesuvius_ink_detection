{
 "cells": [
  {
   "cell_type": "code",
   "execution_count": 2,
   "id": "0876ddcf",
   "metadata": {},
   "outputs": [],
   "source": [
    "import numpy as np\n",
    "import pandas as pd\n",
    "from tqdm import tqdm\n",
    "from PIL import Image\n",
    "from glob import glob\n",
    "import cv2\n",
    "from scipy.ndimage import label as measure_label\n",
    "from scipy.ndimage import gaussian_filter\n",
    "import matplotlib.pyplot as plt\n",
    "\n",
    "from ink_helpers import (load_image,seed_everything,\n",
    "                         load_fragment,)"
   ]
  },
  {
   "cell_type": "code",
   "execution_count": 3,
   "id": "722873ae",
   "metadata": {},
   "outputs": [],
   "source": [
    "def get_landmark_height(mask3D_binary):\n",
    "    landmark_height = np.zeros(mask3D_binary.shape[1:], dtype=np.uint8)\n",
    "    for layer_idx in range(mask3D_binary.shape[0]):\n",
    "        landmark_height[mask3D_binary[layer_idx] > 0] = layer_idx\n",
    "    return landmark_height"
   ]
  },
  {
   "cell_type": "code",
   "execution_count": null,
   "id": "dd5a7479",
   "metadata": {},
   "outputs": [
    {
     "name": "stderr",
     "output_type": "stream",
     "text": [
      " 80%|████████████████████████████████████         | 4/5 [01:43<00:26, 26.29s/it]"
     ]
    }
   ],
   "source": [
    "all_frag_ids = ['1', '2a', '2b', '2c', '3']\n",
    "id2dir = {id:f'./frags/train_{id}' for id in all_frag_ids}\n",
    "\n",
    "id2images,id2frag_mask,id2ink_mask,id2papyrus_mask = {},{},{},{}\n",
    "for frag_id in tqdm(all_frag_ids):\n",
    "    images,frag_mask,ink_mask = load_fragment(frag_id)\n",
    "    id2images[frag_id] = images\n",
    "    id2frag_mask[frag_id] = frag_mask\n",
    "    id2ink_mask[frag_id] = ink_mask\n",
    "    id2papyrus_mask[frag_id] = np.load(f'{id2dir[frag_id]}/quick_mask3D_binary.npy')"
   ]
  },
  {
   "cell_type": "code",
   "execution_count": null,
   "id": "9caaed62",
   "metadata": {},
   "outputs": [],
   "source": [
    "num_top_channel = 17\n",
    "num_bottom_channel = 18\n",
    "kernel_size = 101\n",
    "\n",
    "# create landscape surface mask\n",
    "for frag_id in tqdm(id2images):\n",
    "    \n",
    "    # load image and fragment masks\n",
    "    frag_mask = id2frag_mask[frag_id]\n",
    "    images = id2images[frag_id]\n",
    "    papyrus_mask = id2papyrus_mask[frag_id]\n",
    "\n",
    "    landmark_height = get_landmark_height(papyrus_mask)\n",
    "    \n",
    "    # generate a smooth height map\n",
    "    papyrus_mean_height = int(round(landmark_height[landmark_height>0].mean()))\n",
    "    landmark_height[landmark_height==0] = max(num_bottom_channel, papyrus_mean_height)\n",
    "    landmark_height[landmark_height<num_bottom_channel] = num_bottom_channel\n",
    "    landmark_height = gaussian_filter(landmark_height, kernel_size)\n",
    "    landmark_height[landmark_height>papyrus_mask.shape[0]-num_top_channel] = papyrus_mask.shape[0]-num_top_channel\n",
    "    \n",
    "    surface_arr = np.zeros(shape=(num_top_channel+num_bottom_channel, *frag_mask.shape), dtype=np.uint8)\n",
    "    for pos,relative_h in enumerate(range(-num_bottom_channel, num_top_channel)):\n",
    "        \n",
    "        expanded_index = np.expand_dims(landmark_height+relative_h, axis=0)\n",
    "        surface_arr[pos, :, :] = np.take_along_axis(images, expanded_index, axis=0)\n",
    "    surface_arr[surface_arr==0] = int(images[-1][frag_mask].mean())\n",
    "        \n",
    "    np.save(f'{id2dir[frag_id]}/landscape_peel_surface_kernel{kernel_size}_top{num_top_channel}_bottom{num_bottom_channel}.npy', \n",
    "            surface_arr, )"
   ]
  },
  {
   "cell_type": "code",
   "execution_count": null,
   "id": "1e80c8ab",
   "metadata": {},
   "outputs": [],
   "source": [
    "papyrus_mask.shape"
   ]
  },
  {
   "cell_type": "code",
   "execution_count": null,
   "id": "697a12f2",
   "metadata": {
    "scrolled": true
   },
   "outputs": [],
   "source": [
    "plt.imshow(landmark_height, cmap='Set2')\n",
    "plt.colorbar()"
   ]
  }
 ],
 "metadata": {
  "kernelspec": {
   "display_name": "Python 3 (ipykernel)",
   "language": "python",
   "name": "python3"
  },
  "language_info": {
   "codemirror_mode": {
    "name": "ipython",
    "version": 3
   },
   "file_extension": ".py",
   "mimetype": "text/x-python",
   "name": "python",
   "nbconvert_exporter": "python",
   "pygments_lexer": "ipython3",
   "version": "3.10.6"
  }
 },
 "nbformat": 4,
 "nbformat_minor": 5
}
