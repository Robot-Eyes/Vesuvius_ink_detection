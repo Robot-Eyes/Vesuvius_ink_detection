{
 "cells": [
  {
   "cell_type": "code",
   "execution_count": 1,
   "id": "ec0b1a3a",
   "metadata": {},
   "outputs": [],
   "source": [
    "import numpy as np\n",
    "import pandas as pd\n",
    "from tqdm import tqdm\n",
    "from PIL import Image\n",
    "from glob import glob\n",
    "import cv2\n",
    "from scipy.sparse import csr_matrix, save_npz\n",
    "from scipy.ndimage import label as measure_label\n",
    "import matplotlib.pyplot as plt\n",
    "plt.rcParams['image.origin'] = 'lower'\n",
    "\n",
    "from collections import Counter\n",
    "import gc\n",
    "from concurrent.futures import ThreadPoolExecutor, as_completed\n",
    "\n",
    "from ink_helpers import (load_image,seed_everything,\n",
    "                         load_fragment, DiceLoss, FocalLoss)"
   ]
  },
  {
   "cell_type": "code",
   "execution_count": 2,
   "id": "c654dd8f",
   "metadata": {},
   "outputs": [],
   "source": [
    "def process_label_idx(split_idx):\n",
    "    mask3D_labels, num_labels = measure_label(mask3D_binary_list[split_idx])\n",
    "    component_sizes = np.bincount(mask3D_labels.flat)\n",
    "    gc.collect()\n",
    "\n",
    "    # remove small components\n",
    "    def remove_label(label_idx):\n",
    "        if component_sizes[label_idx] <= 10 or (\n",
    "            component_sizes[label_idx] <= 100 \n",
    "            and np.count_nonzero(mask3D_labels[:2]==label_idx) == 0\n",
    "        ) or (\n",
    "            component_sizes[label_idx] <= 1000\n",
    "            and np.count_nonzero(mask3D_labels[:40]==label_idx) == 0\n",
    "        ):\n",
    "            mask3D_binary_list[split_idx][mask3D_labels==label_idx] = 0\n",
    "\n",
    "    with tqdm(total=len(component_sizes)-1, mininterval=10, \n",
    "              desc=f'Remove small clusters in split {split_idx}') as pbar:\n",
    "        with ThreadPoolExecutor(max_workers=20) as executor:\n",
    "            futures = [executor.submit(remove_label, label_idx) \n",
    "                       for label_idx in range(1, len(component_sizes))]\n",
    "            for future in as_completed(futures):\n",
    "                pbar.update(1)"
   ]
  },
  {
   "cell_type": "code",
   "execution_count": 3,
   "id": "aafbea61",
   "metadata": {},
   "outputs": [
    {
     "name": "stderr",
     "output_type": "stream",
     "text": [
      "100%|█████████████████████████████████████████████| 5/5 [01:13<00:00, 14.68s/it]\n"
     ]
    }
   ],
   "source": [
    "all_frag_ids = ['1', '2a', '2b', '2c', '3']\n",
    "id2dir = {id:f'./frags/train_{id}' for id in all_frag_ids}\n",
    "\n",
    "id2images,id2frag_mask,id2ink_mask = {},{},{}\n",
    "for frag_id in tqdm(all_frag_ids):\n",
    "    images,frag_mask,ink_mask = load_fragment(frag_id)\n",
    "    id2images[frag_id] = images\n",
    "    id2frag_mask[frag_id] = frag_mask\n",
    "    id2ink_mask[frag_id] = ink_mask"
   ]
  },
  {
   "cell_type": "code",
   "execution_count": 4,
   "id": "812d4f27",
   "metadata": {},
   "outputs": [
    {
     "name": "stdout",
     "output_type": "stream",
     "text": [
      "Working on Fragment train_1\n"
     ]
    },
    {
     "name": "stderr",
     "output_type": "stream",
     "text": [
      "Scanning the h side: 100%|█████████████████| 8181/8181 [00:37<00:00, 216.77it/s]\n",
      "Scanning the w side: 100%|██████████████████| 6330/6330 [01:39<00:00, 63.51it/s]\n"
     ]
    },
    {
     "name": "stdout",
     "output_type": "stream",
     "text": [
      "split shapes:  [(65, 8181, 3165), (65, 8181, 3165)]\n"
     ]
    },
    {
     "name": "stderr",
     "output_type": "stream",
     "text": [
      "Remove small clusters in split 0: 100%|█| 30337/30337 [1:36:26<00:00,  5.24it/s]\n",
      "Remove small clusters in split 1: 100%|█| 19762/19762 [1:02:48<00:00,  5.24it/s]\n"
     ]
    },
    {
     "name": "stdout",
     "output_type": "stream",
     "text": [
      "Working on Fragment train_2a\n"
     ]
    },
    {
     "name": "stderr",
     "output_type": "stream",
     "text": [
      "Scanning the h side: 100%|█████████████████| 6099/6099 [00:36<00:00, 167.50it/s]\n",
      "Scanning the w side: 100%|██████████████████| 6903/6903 [01:38<00:00, 70.15it/s]\n"
     ]
    },
    {
     "name": "stdout",
     "output_type": "stream",
     "text": [
      "split shapes:  [(65, 6099, 3451), (65, 6099, 3452)]\n"
     ]
    },
    {
     "name": "stderr",
     "output_type": "stream",
     "text": [
      "Remove small clusters in split 0: 100%|█| 24810/24810 [1:03:07<00:00,  6.55it/s]\n",
      "Remove small clusters in split 1: 100%|███| 17879/17879 [45:00<00:00,  6.62it/s]\n"
     ]
    },
    {
     "name": "stdout",
     "output_type": "stream",
     "text": [
      "Working on Fragment train_2b\n"
     ]
    },
    {
     "name": "stderr",
     "output_type": "stream",
     "text": [
      "Scanning the h side: 100%|██████████████████| 4500/4500 [01:22<00:00, 54.66it/s]\n",
      "Scanning the w side: 100%|██████████████████| 9278/9278 [02:04<00:00, 74.51it/s]\n"
     ]
    },
    {
     "name": "stdout",
     "output_type": "stream",
     "text": [
      "split shapes:  [(65, 4500, 4639), (65, 4500, 4639)]\n"
     ]
    },
    {
     "name": "stderr",
     "output_type": "stream",
     "text": [
      "Remove small clusters in split 0: 100%|█| 45602/45602 [1:51:48<00:00,  6.80it/s]\n",
      "Remove small clusters in split 1: 100%|█| 50318/50318 [2:06:24<00:00,  6.63it/s]\n"
     ]
    },
    {
     "name": "stdout",
     "output_type": "stream",
     "text": [
      "Working on Fragment train_2c\n"
     ]
    },
    {
     "name": "stderr",
     "output_type": "stream",
     "text": [
      "Scanning the h side: 100%|██████████████████| 4229/4229 [01:05<00:00, 64.09it/s]\n",
      "Scanning the w side: 100%|██████████████████| 9504/9504 [01:39<00:00, 95.93it/s]\n"
     ]
    },
    {
     "name": "stdout",
     "output_type": "stream",
     "text": [
      "split shapes:  [(65, 4229, 4752), (65, 4229, 4752)]\n"
     ]
    },
    {
     "name": "stderr",
     "output_type": "stream",
     "text": [
      "Remove small clusters in split 0: 100%|█| 32429/32429 [1:17:01<00:00,  7.02it/s]\n",
      "Remove small clusters in split 1: 100%|█| 41306/41306 [1:39:15<00:00,  6.94it/s]\n"
     ]
    },
    {
     "name": "stdout",
     "output_type": "stream",
     "text": [
      "Working on Fragment train_3\n"
     ]
    },
    {
     "name": "stderr",
     "output_type": "stream",
     "text": [
      "Scanning the h side: 100%|█████████████████| 7606/7606 [00:39<00:00, 194.36it/s]\n",
      "Scanning the w side: 100%|██████████████████| 5249/5249 [01:30<00:00, 58.15it/s]\n"
     ]
    },
    {
     "name": "stdout",
     "output_type": "stream",
     "text": [
      "split shapes:  [(65, 7606, 2624), (65, 7606, 2625)]\n"
     ]
    },
    {
     "name": "stderr",
     "output_type": "stream",
     "text": [
      "Remove small clusters in split 0: 100%|███| 15351/15351 [36:36<00:00,  6.99it/s]\n",
      "Remove small clusters in split 1: 100%|███| 20902/20902 [51:12<00:00,  6.80it/s]\n"
     ]
    }
   ],
   "source": [
    "for frag_id in all_frag_ids:\n",
    "    folder_prefix = f'train_{frag_id}'\n",
    "    print(f'Working on Fragment {folder_prefix}')\n",
    "    \n",
    "    # Load the images \n",
    "    images = id2images[frag_id]\n",
    "    frag_mask = id2frag_mask[frag_id]\n",
    "    ink_mask = id2ink_mask[frag_id]\n",
    "    \n",
    "    mask3D = np.zeros_like(images, dtype=np.uint8)\n",
    "\n",
    "    for slice_axis in range(2): # x and y\n",
    "        for slice_idx in tqdm(\n",
    "            range(images.shape[slice_axis+1]), mininterval=5, \n",
    "            desc=f\"Scanning the {'h' if not slice_axis else 'w'} side\"\n",
    "        ):\n",
    "\n",
    "            ### load vertical slice\n",
    "            if slice_axis == 0: # h cut\n",
    "                frag_cols = np.where(images[:, slice_idx, :].min(axis=0)>0)[0]\n",
    "                if len(frag_cols) < 3: continue\n",
    "                side_cut_img = images[:, slice_idx, frag_cols]\n",
    "            else: # w cut\n",
    "                frag_cols = np.where(images[:, :, slice_idx].min(axis=0)>0)[0]\n",
    "                if len(frag_cols) < 3: continue\n",
    "                side_cut_img = images[:, frag_cols, slice_idx]\n",
    "\n",
    "            # normalization to increase contrast\n",
    "            side_cut_img = ((side_cut_img-side_cut_img.min())/(side_cut_img.max()-side_cut_img.min())*255).astype(np.uint8)\n",
    "\n",
    "            ### Type One: plain Ostu thresholded\n",
    "            otsu_value, plain_otsu_thresh = cv2.threshold(side_cut_img, 0, 255, cv2.THRESH_BINARY+cv2.THRESH_OTSU)\n",
    "            otsu_value *= 0.98\n",
    "\n",
    "            # Perform connected component analysis\n",
    "            num_labels, labels, stats, centroids = cv2.connectedComponentsWithStats(plain_otsu_thresh)\n",
    "            # Iterate over components and remove isolated bright points\n",
    "            for i in range(1, num_labels): # skip background component (i.e. label 0)\n",
    "                area = stats[i, cv2.CC_STAT_AREA]\n",
    "                if area <= 3 or (centroids[i][1] > 30 and area < centroids[i][1] - 30):\n",
    "                    labels[labels == i] = 0 # set component pixels to background\n",
    "            remove_isolated_otsu_thresh = (labels>0).astype(bool).astype(np.uint8)\n",
    "\n",
    "            ### Type Two: height_adjust_otsu_thresh\n",
    "            top_surface_height = np.where(\n",
    "                remove_isolated_otsu_thresh.mean(axis=1)>min(0.05, 0.5*remove_isolated_otsu_thresh[0].mean())\n",
    "            )[0][-1]\n",
    "            left_margin = max(min(20, len(frag_cols)//10), np.where(remove_isolated_otsu_thresh.sum(axis=0)>5)[0][0])\n",
    "            right_margin = max(min(20, len(frag_cols)//10), len(frag_cols)-np.where(remove_isolated_otsu_thresh.sum(axis=0)>5)[0][-1])\n",
    "            if len(frag_cols)-right_margin-left_margin <= 2:\n",
    "                continue\n",
    "            linspace_len = min(80, (len(frag_cols)-right_margin-left_margin)//5+2)\n",
    "            linspace_arr = np.linspace(0, 1, linspace_len)\n",
    "\n",
    "            height_adjust_otsu_thresh = np.zeros_like(side_cut_img, dtype=np.uint8)\n",
    "            base_otsu_ratio = 0.9\n",
    "            saturate_distance = 10\n",
    "            for height in range(images.shape[0]):\n",
    "                adjust_otsu_val = otsu_value * max(base_otsu_ratio, \n",
    "                                                   1-(1-base_otsu_ratio)/saturate_distance*(top_surface_height-height))\n",
    "                adjust_otsu_val_rows = adjust_otsu_val * np.ones_like(height_adjust_otsu_thresh[height, :])\n",
    "                adjust_otsu_val_rows[:left_margin] = max(otsu_value, adjust_otsu_val)\n",
    "                adjust_otsu_val_rows[left_margin:left_margin+linspace_len] = (\n",
    "                    max(otsu_value, adjust_otsu_val)*(1-linspace_arr) \n",
    "                    + adjust_otsu_val_rows[left_margin:left_margin+linspace_len]*linspace_arr\n",
    "                )\n",
    "                adjust_otsu_val_rows[-right_margin:] = max(otsu_value, adjust_otsu_val)\n",
    "                adjust_otsu_val_rows[-right_margin-linspace_len:-right_margin] = (\n",
    "                    adjust_otsu_val_rows[-right_margin-linspace_len:-right_margin]*(1-linspace_arr)\n",
    "                    + max(otsu_value, adjust_otsu_val)*linspace_arr\n",
    "                )\n",
    "\n",
    "                height_adjust_otsu_thresh[height, :] = side_cut_img[height, :]>adjust_otsu_val_rows\n",
    "\n",
    "            # Perform connected component analysis\n",
    "            num_labels, labels, stats, centroids = cv2.connectedComponentsWithStats(height_adjust_otsu_thresh)\n",
    "\n",
    "            # Iterate over components and remove isolated bright points\n",
    "            for i in range(1, num_labels): # skip background component (i.e. label 0)\n",
    "                area = stats[i, cv2.CC_STAT_AREA]\n",
    "                if (area <= 3 \n",
    "                    or area < 0.6*(centroids[i][1]-top_surface_height)\n",
    "                    or area < 0.6*(left_margin-centroids[i][0])\n",
    "                    or area < 0.6*(centroids[i][0]+right_margin-len(frag_cols))\n",
    "                   ):\n",
    "                    labels[labels == i] = 0 # set component pixels to background\n",
    "            height_adjust_otsu_thresh = (labels>0).astype(bool).astype(np.uint8)\n",
    "\n",
    "            ### Summary: add to 3D mask\n",
    "            if slice_axis == 0: # h cut\n",
    "                mask3D[:, slice_idx, frag_cols] += 2*remove_isolated_otsu_thresh + height_adjust_otsu_thresh\n",
    "            else: # w cut\n",
    "                mask3D[:, frag_cols, slice_idx] += 2*remove_isolated_otsu_thresh + height_adjust_otsu_thresh\n",
    "                \n",
    "                \n",
    "    split_w_pos = [(mask3D.shape[2] // 2) * a for a in range(1,2)]\n",
    "\n",
    "    mask3D_binary_list = np.split((mask3D >= 5).astype(np.uint8), split_w_pos, axis=2)\n",
    "    print('split shapes: ', [a.shape for a in mask3D_binary_list])\n",
    "\n",
    "    del mask3D, side_cut_img\n",
    "    del plain_otsu_thresh, remove_isolated_otsu_thresh, height_adjust_otsu_thresh, labels\n",
    "    gc.collect()\n",
    "    \n",
    "        \n",
    "    # process each split_idx sequentially\n",
    "    for split_idx in range(len(mask3D_binary_list)):\n",
    "        process_label_idx(split_idx)\n",
    "\n",
    "    mask3D_binary = np.concatenate(mask3D_binary_list, axis=2).astype(bool)\n",
    "    del mask3D_binary_list\n",
    "    gc.collect()\n",
    "\n",
    "    \n",
    "    np.save(f'./frags/{folder_prefix}/mask3D_binary.npy', mask3D_binary)\n",
    "    del mask3D_binary\n",
    "    gc.collect()"
   ]
  },
  {
   "cell_type": "markdown",
   "id": "ccef812d",
   "metadata": {},
   "source": [
    "## quick 3D mask "
   ]
  },
  {
   "cell_type": "code",
   "execution_count": 6,
   "id": "fe469680",
   "metadata": {},
   "outputs": [
    {
     "name": "stdout",
     "output_type": "stream",
     "text": [
      "Working on Fragment train_1\n"
     ]
    },
    {
     "name": "stderr",
     "output_type": "stream",
     "text": [
      "Scanning the h side: 100%|█████████████████| 8181/8181 [00:33<00:00, 241.79it/s]\n",
      "Scanning the w side: 100%|██████████████████| 6330/6330 [01:28<00:00, 71.13it/s]\n"
     ]
    },
    {
     "name": "stdout",
     "output_type": "stream",
     "text": [
      "Working on Fragment train_2a\n"
     ]
    },
    {
     "name": "stderr",
     "output_type": "stream",
     "text": [
      "Scanning the h side: 100%|█████████████████| 6099/6099 [00:30<00:00, 203.21it/s]\n",
      "Scanning the w side: 100%|██████████████████| 6903/6903 [01:17<00:00, 89.09it/s]\n"
     ]
    },
    {
     "name": "stdout",
     "output_type": "stream",
     "text": [
      "Working on Fragment train_2b\n"
     ]
    },
    {
     "name": "stderr",
     "output_type": "stream",
     "text": [
      "Scanning the h side: 100%|██████████████████| 4500/4500 [01:06<00:00, 67.65it/s]\n",
      "Scanning the w side: 100%|██████████████████| 9278/9278 [01:49<00:00, 84.47it/s]\n"
     ]
    },
    {
     "name": "stdout",
     "output_type": "stream",
     "text": [
      "Working on Fragment train_2c\n"
     ]
    },
    {
     "name": "stderr",
     "output_type": "stream",
     "text": [
      "Scanning the h side: 100%|██████████████████| 4229/4229 [00:53<00:00, 78.39it/s]\n",
      "Scanning the w side: 100%|█████████████████| 9504/9504 [01:28<00:00, 107.87it/s]\n"
     ]
    },
    {
     "name": "stdout",
     "output_type": "stream",
     "text": [
      "Working on Fragment train_3\n"
     ]
    },
    {
     "name": "stderr",
     "output_type": "stream",
     "text": [
      "Scanning the h side: 100%|█████████████████| 7606/7606 [00:34<00:00, 221.30it/s]\n",
      "Scanning the w side: 100%|██████████████████| 5249/5249 [01:21<00:00, 64.43it/s]\n"
     ]
    }
   ],
   "source": [
    "for frag_id in all_frag_ids:\n",
    "    folder_prefix = f'train_{frag_id}'\n",
    "    print(f'Working on Fragment {folder_prefix}')\n",
    "    \n",
    "    # Load the images \n",
    "    images = id2images[frag_id]\n",
    "    frag_mask = id2frag_mask[frag_id]\n",
    "    ink_mask = id2ink_mask[frag_id]\n",
    "    \n",
    "    mask3D = np.zeros_like(images, dtype=np.uint8)\n",
    "\n",
    "    for slice_axis in range(2): # x and y\n",
    "        for slice_idx in tqdm(\n",
    "            range(images.shape[slice_axis+1]), mininterval=5, \n",
    "            desc=f\"Scanning the {'h' if not slice_axis else 'w'} side\"\n",
    "        ):\n",
    "\n",
    "            ### load vertical slice\n",
    "            if slice_axis == 0: # h cut\n",
    "                frag_cols = np.where(images[:, slice_idx, :].min(axis=0)>0)[0]\n",
    "                if len(frag_cols) < 3: continue\n",
    "                side_cut_img = images[:, slice_idx, frag_cols]\n",
    "            else: # w cut\n",
    "                frag_cols = np.where(images[:, :, slice_idx].min(axis=0)>0)[0]\n",
    "                if len(frag_cols) < 3: continue\n",
    "                side_cut_img = images[:, frag_cols, slice_idx]\n",
    "\n",
    "            ### Type One: plain Ostu thresholded\n",
    "            otsu_value, plain_otsu_thresh = cv2.threshold(side_cut_img, 0, 255, cv2.THRESH_BINARY+cv2.THRESH_OTSU)\n",
    "\n",
    "            # Perform connected component analysis\n",
    "            num_labels, labels, stats, centroids = cv2.connectedComponentsWithStats(plain_otsu_thresh)\n",
    "            # Iterate over components and remove isolated bright points\n",
    "            for i in range(1, num_labels): # skip background component (i.e. label 0)\n",
    "                area = stats[i, cv2.CC_STAT_AREA]\n",
    "                if area <= 2 or (centroids[i][1] > 50 and area < centroids[i][1] - 50):\n",
    "                    labels[labels == i] = 0 # set component pixels to background\n",
    "            remove_isolated_otsu_thresh = (labels>0).astype(bool).astype(np.uint8)\n",
    "\n",
    "            ### Type Two: height_adjust_otsu_thresh\n",
    "            top_surface_height = np.where(\n",
    "                remove_isolated_otsu_thresh.mean(axis=1)>min(0.05, 0.5*remove_isolated_otsu_thresh[0].mean())\n",
    "            )[0][-1]\n",
    "            left_margin = max(min(20, len(frag_cols)//10), np.where(remove_isolated_otsu_thresh.sum(axis=0)>5)[0][0])\n",
    "            right_margin = max(min(20, len(frag_cols)//10), len(frag_cols)-np.where(remove_isolated_otsu_thresh.sum(axis=0)>5)[0][-1])\n",
    "            if len(frag_cols)-right_margin-left_margin <= 2:\n",
    "                continue\n",
    "            linspace_len = min(80, (len(frag_cols)-right_margin-left_margin)//5+2)\n",
    "            linspace_arr = np.linspace(0, 1, linspace_len)\n",
    "\n",
    "            height_adjust_otsu_thresh = np.zeros_like(side_cut_img, dtype=np.uint8)\n",
    "            base_otsu_ratio = 0.95\n",
    "            saturate_distance = 10\n",
    "            for height in range(images.shape[0]):\n",
    "                adjust_otsu_val = otsu_value * max(base_otsu_ratio, \n",
    "                                                   1-(1-base_otsu_ratio)/saturate_distance*(top_surface_height-height))\n",
    "                adjust_otsu_val_rows = adjust_otsu_val * np.ones_like(height_adjust_otsu_thresh[height, :])\n",
    "                adjust_otsu_val_rows[:left_margin] = max(otsu_value, adjust_otsu_val)\n",
    "                adjust_otsu_val_rows[left_margin:left_margin+linspace_len] = (\n",
    "                    max(otsu_value, adjust_otsu_val)*(1-linspace_arr) \n",
    "                    + adjust_otsu_val_rows[left_margin:left_margin+linspace_len]*linspace_arr\n",
    "                )\n",
    "                adjust_otsu_val_rows[-right_margin:] = max(otsu_value, adjust_otsu_val)\n",
    "                adjust_otsu_val_rows[-right_margin-linspace_len:-right_margin] = (\n",
    "                    adjust_otsu_val_rows[-right_margin-linspace_len:-right_margin]*(1-linspace_arr)\n",
    "                    + max(otsu_value, adjust_otsu_val)*linspace_arr\n",
    "                )\n",
    "\n",
    "                height_adjust_otsu_thresh[height, :] = side_cut_img[height, :]>adjust_otsu_val_rows\n",
    "\n",
    "            # Perform connected component analysis\n",
    "            num_labels, labels, stats, centroids = cv2.connectedComponentsWithStats(height_adjust_otsu_thresh)\n",
    "\n",
    "            # Iterate over components and remove isolated bright points\n",
    "            for i in range(1, num_labels): # skip background component (i.e. label 0)\n",
    "                area = stats[i, cv2.CC_STAT_AREA]\n",
    "                if (area <= 2 \n",
    "                    or area < 0.7*(centroids[i][1]-top_surface_height)\n",
    "                    or area < 0.7*(left_margin-centroids[i][0])\n",
    "                    or area < 0.7*(centroids[i][0]+right_margin-len(frag_cols))\n",
    "                   ):\n",
    "                    labels[labels == i] = 0 # set component pixels to background\n",
    "            height_adjust_otsu_thresh = (labels>0).astype(bool).astype(np.uint8)\n",
    "\n",
    "            ### Summary: add to 3D mask\n",
    "            if slice_axis == 0: # h cut\n",
    "                mask3D[:, slice_idx, frag_cols] += 2*remove_isolated_otsu_thresh + height_adjust_otsu_thresh\n",
    "            else: # w cut\n",
    "                mask3D[:, frag_cols, slice_idx] += 2*remove_isolated_otsu_thresh + height_adjust_otsu_thresh\n",
    "                \n",
    "\n",
    "    # require two Otsu and at least one height adjested Otsu\n",
    "    quick_mask3D_binary = (mask3D >= 5).astype(bool)\n",
    "    del mask3D\n",
    "    gc.collect()\n",
    "    \n",
    "    np.save(f'./frags/{folder_prefix}/quick_mask3D_binary.npy', quick_mask3D_binary)\n",
    "    del quick_mask3D_binary\n",
    "    gc.collect()"
   ]
  },
  {
   "cell_type": "code",
   "execution_count": null,
   "id": "f50289b9",
   "metadata": {},
   "outputs": [],
   "source": []
  },
  {
   "cell_type": "code",
   "execution_count": null,
   "id": "22185b2f",
   "metadata": {},
   "outputs": [],
   "source": []
  },
  {
   "cell_type": "code",
   "execution_count": null,
   "id": "8a674ce3",
   "metadata": {},
   "outputs": [],
   "source": []
  },
  {
   "cell_type": "code",
   "execution_count": null,
   "id": "aecce6d0",
   "metadata": {},
   "outputs": [],
   "source": []
  },
  {
   "cell_type": "code",
   "execution_count": null,
   "id": "13ecfade",
   "metadata": {},
   "outputs": [],
   "source": []
  },
  {
   "cell_type": "code",
   "execution_count": null,
   "id": "22b56473",
   "metadata": {},
   "outputs": [],
   "source": []
  },
  {
   "cell_type": "code",
   "execution_count": null,
   "id": "5d98fe19",
   "metadata": {},
   "outputs": [],
   "source": []
  },
  {
   "cell_type": "code",
   "execution_count": null,
   "id": "65682028",
   "metadata": {},
   "outputs": [],
   "source": []
  },
  {
   "cell_type": "code",
   "execution_count": null,
   "id": "dffc63c8",
   "metadata": {},
   "outputs": [],
   "source": []
  },
  {
   "cell_type": "code",
   "execution_count": null,
   "id": "6f0a1f35",
   "metadata": {},
   "outputs": [],
   "source": []
  }
 ],
 "metadata": {
  "kernelspec": {
   "display_name": "Python 3 (ipykernel)",
   "language": "python",
   "name": "python3"
  },
  "language_info": {
   "codemirror_mode": {
    "name": "ipython",
    "version": 3
   },
   "file_extension": ".py",
   "mimetype": "text/x-python",
   "name": "python",
   "nbconvert_exporter": "python",
   "pygments_lexer": "ipython3",
   "version": "3.10.6"
  }
 },
 "nbformat": 4,
 "nbformat_minor": 5
}
