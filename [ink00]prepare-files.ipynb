{
 "cells": [
  {
   "cell_type": "markdown",
   "id": "bc4e2152",
   "metadata": {},
   "source": [
    "# Download and Unpack"
   ]
  },
  {
   "cell_type": "code",
   "execution_count": 5,
   "id": "ff02c633",
   "metadata": {},
   "outputs": [],
   "source": [
    "import zipfile\n",
    "import os\n",
    "import requests"
   ]
  },
  {
   "cell_type": "code",
   "execution_count": 1,
   "id": "462df699",
   "metadata": {},
   "outputs": [],
   "source": [
    "# Replace 'your_api_key' with your actual API key and 'file_id' with the file ID you want to download\n",
    "url = \"https://storage.googleapis.com/kaggle-competitions-data/kaggle-v2/47317/5799376/bundle/archive.zip?GoogleAccessId=web-data@kaggle-161607.iam.gserviceaccount.com&Expires=1684949245&Signature=G3Av7r1wXj6qoN9RkZmsmspP4tI0P4vkjdh1YDn3Q3VQUNvTqDCrEHhYtA64WidUi9xbO4%2FdrvkdW21zezgaFsQVNiwv56f5LjAEvScND4i3NlnCpdNE48UQuJWPWyxbnCP1mgF8mA71qc9z3G4xRef9WMVAKjXKSJnLxi2ioeFFD63ZJU%2BIWFMZVILYGMKg1GkA2kG%2FaZKTdXzQhN9nL3Dc%2BQPl31Qd2Gj9v1ou044W0hMBhqFufjyu4NYr48ycBAe%2BWWi64i9CdRNlmKMJ4%2BwVfuckR5AtQOxmPDQmySSHDhLXvoxLxDSZncdbAu%2BJm8PifSct4I8x45rTSkSBPQ%3D%3D&response-content-disposition=attachment%3B+filename%3Dvesuvius-challenge-ink-detection.zip\"\n",
    "response = requests.get(url)\n",
    "\n",
    "# Save the downloaded file to a local file\n",
    "with open(\"downloaded_file.zip\", \"wb\") as f:\n",
    "    f.write(response.content)"
   ]
  },
  {
   "cell_type": "code",
   "execution_count": 2,
   "id": "16bbd729",
   "metadata": {},
   "outputs": [],
   "source": [
    "# Unpack a .zip file to a folder\n",
    "with zipfile.ZipFile('downloaded_file.zip', 'r') as zip_ref:\n",
    "    zip_ref.extractall('./raw')\n"
   ]
  },
  {
   "cell_type": "markdown",
   "id": "c33a9691",
   "metadata": {},
   "source": [
    "# Make split folds and Convert to uint8 png"
   ]
  },
  {
   "cell_type": "code",
   "execution_count": 20,
   "id": "ba232b36",
   "metadata": {},
   "outputs": [
    {
     "name": "stdout",
     "output_type": "stream",
     "text": [
      "Collecting einops\n",
      "  Downloading einops-0.6.1-py3-none-any.whl (42 kB)\n",
      "\u001b[2K     \u001b[38;2;114;156;31m━━━━━━━━━━━━━━━━━━━━━━━━━━━━━━━━━━━━━━━━\u001b[0m \u001b[32m42.2/42.2 kB\u001b[0m \u001b[31m1.9 MB/s\u001b[0m eta \u001b[36m0:00:00\u001b[0m\n",
      "\u001b[?25hInstalling collected packages: einops\n",
      "Successfully installed einops-0.6.1\n",
      "\n",
      "\u001b[1m[\u001b[0m\u001b[34;49mnotice\u001b[0m\u001b[1;39;49m]\u001b[0m\u001b[39;49m A new release of pip is available: \u001b[0m\u001b[31;49m23.1\u001b[0m\u001b[39;49m -> \u001b[0m\u001b[32;49m23.1.2\u001b[0m\n",
      "\u001b[1m[\u001b[0m\u001b[34;49mnotice\u001b[0m\u001b[1;39;49m]\u001b[0m\u001b[39;49m To update, run: \u001b[0m\u001b[32;49mpip install --upgrade pip\u001b[0m\n"
     ]
    }
   ],
   "source": [
    "!pip install einops"
   ]
  },
  {
   "cell_type": "code",
   "execution_count": 6,
   "id": "31756766",
   "metadata": {},
   "outputs": [],
   "source": [
    "import os, shutil\n",
    "\n",
    "import numpy as np\n",
    "import pandas as pd\n",
    "from glob import glob\n",
    "from tqdm import tqdm\n",
    "\n",
    "from PIL import Image\n",
    "import cv2"
   ]
  },
  {
   "cell_type": "code",
   "execution_count": 5,
   "id": "88401d8e",
   "metadata": {},
   "outputs": [],
   "source": [
    "os.makedirs('./folds', exist_ok=True)\n",
    "\n",
    "def load_image(filename):\n",
    "    return cv2.imread(filename, 0)"
   ]
  },
  {
   "cell_type": "markdown",
   "id": "2f7f7214",
   "metadata": {},
   "source": [
    "## 13"
   ]
  },
  {
   "cell_type": "code",
   "execution_count": 11,
   "id": "7417a54e",
   "metadata": {},
   "outputs": [
    {
     "name": "stdout",
     "output_type": "stream",
     "text": [
      "Working on ./raw/train/3\n"
     ]
    },
    {
     "name": "stderr",
     "output_type": "stream",
     "text": [
      "100%|███████████████████████████████████████████| 65/65 [01:54<00:00,  1.76s/it]\n"
     ]
    },
    {
     "name": "stdout",
     "output_type": "stream",
     "text": [
      "Working on ./raw/train/1\n"
     ]
    },
    {
     "name": "stderr",
     "output_type": "stream",
     "text": [
      "100%|███████████████████████████████████████████| 65/65 [02:06<00:00,  1.95s/it]\n"
     ]
    }
   ],
   "source": [
    "parent_dir = \"./raw/train\"\n",
    "train_dir_list = [d for d in glob(f\"{parent_dir}/*\") if '/2' not in d]\n",
    "\n",
    "for train_dir in train_dir_list:\n",
    "    \n",
    "    print(f'Working on {train_dir}')\n",
    "    folder_prefix = train_dir.split('raw/')[-1].replace('/', '_')\n",
    "    os.makedirs(f'./folds/{folder_prefix}', exist_ok=True)\n",
    "    # Get a list of image file names in the directory\n",
    "    img_fn_list = sorted(glob(f'{train_dir}/surface_volume/*'))\n",
    "    \n",
    "    # Load the images and save as png\n",
    "    for fn in tqdm(img_fn_list):\n",
    "        image = load_image(fn)\n",
    "        Image.fromarray(image).save(f\"./folds/{folder_prefix}/surface_{fn.split('/')[-1].split('.')[0]}.png\")\n",
    "    \n",
    "    shutil.copyfile(f\"{train_dir}/mask.png\", f'./folds/{folder_prefix}/frag_mask.png')\n",
    "    shutil.copyfile(f\"{train_dir}/inklabels.png\", f'./folds/{folder_prefix}/ink_mask.png')"
   ]
  },
  {
   "cell_type": "markdown",
   "id": "d8828798",
   "metadata": {},
   "source": [
    "## 2"
   ]
  },
  {
   "cell_type": "code",
   "execution_count": 12,
   "id": "4c2ca8f8",
   "metadata": {},
   "outputs": [],
   "source": [
    "train_dir = \"./raw/train/2\"\n",
    "folder_prefix = train_dir.split('raw/')[-1].replace('/', '_')\n",
    "# Get a list of image file names in the directory\n",
    "img_fn_list = sorted(glob(f'{train_dir}/surface_volume/*'))"
   ]
  },
  {
   "cell_type": "code",
   "execution_count": 14,
   "id": "6bccb44c",
   "metadata": {},
   "outputs": [],
   "source": [
    "split_h = [6100, 10600,] \n",
    "frag_mask = load_image(f\"{train_dir}/mask.png\").astype(bool).astype(np.uint8)\n",
    "ink_mask = load_image(f\"{train_dir}/inklabels.png\").astype(bool).astype(np.uint8)\n",
    "\n",
    "frag_temp_mask_list = np.split(frag_mask, split_h, axis=0)\n",
    "ink_temp_mask_list = np.split(ink_mask, split_h, axis=0)\n",
    "\n",
    "# cut empty margins\n",
    "frag_mask_list, ink_mask_list, pos_list = [],[],[]\n",
    "for fold_idx in range(3):\n",
    "    \n",
    "    os.makedirs(f'./folds/{folder_prefix}{chr(fold_idx+97)}', exist_ok=True)\n",
    "    rows, cols = np.where(frag_temp_mask_list[fold_idx])\n",
    "    pos_list.append((rows.min(),rows.max()+1, cols.min(),cols.max()+1))\n",
    "    # extract the non-empty parts\n",
    "    frag_mask_list.append(frag_temp_mask_list[fold_idx][rows.min():rows.max()+1, cols.min():cols.max()+1])\n",
    "    Image.fromarray(frag_mask_list[fold_idx]).save(f'./folds/{folder_prefix}{chr(fold_idx+97)}/frag_mask.png')\n",
    "    ink_mask_list.append(ink_temp_mask_list[fold_idx][rows.min():rows.max()+1, cols.min():cols.max()+1])\n",
    "    Image.fromarray(ink_mask_list[fold_idx]).save(f'./folds/{folder_prefix}{chr(fold_idx+97)}/ink_mask.png')\n",
    "    \n",
    "del frag_temp_mask_list, ink_temp_mask_list"
   ]
  },
  {
   "cell_type": "code",
   "execution_count": 15,
   "id": "750dadda",
   "metadata": {},
   "outputs": [
    {
     "name": "stderr",
     "output_type": "stream",
     "text": [
      "100%|███████████████████████████████████████████| 65/65 [07:56<00:00,  7.34s/it]\n"
     ]
    }
   ],
   "source": [
    "# load images and make splits\n",
    "for file_idx,fn in tqdm(enumerate(img_fn_list), total=len(img_fn_list)):\n",
    "    \n",
    "    slice_image = load_image(fn)\n",
    "    slice_image_list = np.split(slice_image, split_h, axis=0)\n",
    "    \n",
    "    for fold_idx in range(3):\n",
    "        r1,r2,c1,c2 = pos_list[fold_idx]\n",
    "        Image.fromarray(slice_image_list[fold_idx][r1:r2, c1:c2]).save(\n",
    "            f'./folds/{folder_prefix}{chr(fold_idx+97)}/surface_{file_idx:02d}.png'\n",
    "        )"
   ]
  },
  {
   "cell_type": "code",
   "execution_count": null,
   "id": "ddaefb04",
   "metadata": {},
   "outputs": [],
   "source": []
  }
 ],
 "metadata": {
  "kernelspec": {
   "display_name": "Python 3 (ipykernel)",
   "language": "python",
   "name": "python3"
  },
  "language_info": {
   "codemirror_mode": {
    "name": "ipython",
    "version": 3
   },
   "file_extension": ".py",
   "mimetype": "text/x-python",
   "name": "python",
   "nbconvert_exporter": "python",
   "pygments_lexer": "ipython3",
   "version": "3.10.6"
  }
 },
 "nbformat": 4,
 "nbformat_minor": 5
}
